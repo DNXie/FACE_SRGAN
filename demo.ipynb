{
 "cells": [
  {
   "cell_type": "code",
   "execution_count": 1,
   "metadata": {},
   "outputs": [
    {
     "name": "stderr",
     "output_type": "stream",
     "text": [
      "Using TensorFlow backend.\n"
     ]
    }
   ],
   "source": [
    "import numpy as np\n",
    "from PIL import Image\n",
    "import argparse\n",
    "import math\n",
    "from skimage import io\n",
    "from keras.preprocessing import image\n",
    "from keras import backend as K\n",
    "K.set_image_dim_ordering('th')\n",
    "\n",
    "\n",
    "def load_data2(txt_name):\n",
    "    path = open('/home/dl/zyfang/face_example/'+txt_name, 'r')\n",
    "    lines = path.readlines()\n",
    "    X_train = np.zeros([len(lines), 112, 96, 3])\n",
    "    for i in range(len(lines)):\n",
    "        t = lines[i].replace('/media/sdb/ECCV16-SIAT/','/home/dl/zyfang/')\n",
    "        t = t[0: t.index('.jpg')+4]\n",
    "        img = io.imread(t)\n",
    "        if (len(img.shape) == 3):\n",
    "            X_train[i] = img\n",
    "    return X_train\n",
    "def load_data(txt_name):\n",
    "    path = open('/home/dl/zyfang/face_example/'+txt_name, 'r')\n",
    "    lines = path.readlines()\n",
    "    X_train = np.zeros([len(lines), 112, 96, 3])\n",
    "    for i in range(len(lines)):\n",
    "        img = io.imread(lines[i].replace('/home/zyfang/caffe-face', '/home/dl/zyfang').replace(' 0\\n', ''))\n",
    "        if (len(img.shape) == 3):\n",
    "            X_train[i] = img\n",
    "    return X_train\n",
    "def downsample(img, size):\n",
    "    im = np.empty([img.shape[0]/size, img.shape[1]/size, 3])    \n",
    "    for i in range(im.shape[2]):\n",
    "        for m in range(im.shape[1]):\n",
    "            for n in range(im.shape[0]):\n",
    "                im[n, m, i] = img[size*n, size*m ,i]\n",
    "    return im.astype(np.uint8)"
   ]
  },
  {
   "cell_type": "code",
   "execution_count": 2,
   "metadata": {
    "collapsed": true
   },
   "outputs": [],
   "source": [
    "import Data\n",
    "X_train, y_train, X_test, y_test = Data.loadData('data.h5')"
   ]
  },
  {
   "cell_type": "code",
   "execution_count": 3,
   "metadata": {
    "collapsed": true
   },
   "outputs": [],
   "source": [
    "%matplotlib inline\n",
    "from matplotlib.pyplot import imshow\n",
    "from skimage.transform import pyramid_reduce\n",
    "i=30\n",
    "#imshow((y_train[i,:,:,:]-127.5)/127.5)\n",
    "img = y_test[i,:,:,:]"
   ]
  },
  {
   "cell_type": "code",
   "execution_count": 15,
   "metadata": {},
   "outputs": [
    {
     "data": {
      "text/plain": [
       "<matplotlib.image.AxesImage at 0x7fc82fefa590>"
      ]
     },
     "execution_count": 15,
     "metadata": {},
     "output_type": "execute_result"
    },
    {
     "data": {
      "image/png": "[encoded data removed]",
      "text/plain": [
       "<matplotlib.figure.Figure at 0x7fc82ffd31d0>"
      ]
     },
     "metadata": {},
     "output_type": "display_data"
    }
   ],
   "source": [
    "imshow(X_train[10])"
   ]
  },
  {
   "cell_type": "code",
   "execution_count": 16,
   "metadata": {},
   "outputs": [
    {
     "data": {
      "text/plain": [
       "(112, 96, 3)"
      ]
     },
     "execution_count": 16,
     "metadata": {},
     "output_type": "execute_result"
    }
   ],
   "source": [
    "X_train[10].shape"
   ]
  },
  {
   "cell_type": "code",
   "execution_count": null,
   "metadata": {
    "collapsed": true
   },
   "outputs": [],
   "source": [
    "#     X_train = load_data('lr_training.txt')\n",
    "#     y_train = load_data2('hr_training.txt')\n",
    "#     X_test = load_data('lr_val.txt')\n",
    "#     y_test = load_data2('hr_val.txt')\n",
    "    # Create the HDF5 file\n",
    "    f = h5py.File('data.h5', 'w')\n",
    "\n",
    "    # Create the image and palette dataspaces\n",
    "    dset = f.create_dataset('lr_train', data=X_train)\n",
    "    pset = f.create_dataset('hr_train', data=y_train)\n",
    "    lset = f.create_dataset('lr_test', data = X_test)\n",
    "    sset = f.create_dataset('hr_test', data = y_test)\n",
    "\n",
    "    # Close the file\n",
    "    f.close()"
   ]
  },
  {
   "cell_type": "code",
   "execution_count": null,
   "metadata": {
    "collapsed": true
   },
   "outputs": [],
   "source": [
    "xtrain = []\n",
    "ytrain = []\n",
    "xval = []\n",
    "yval = []\n",
    "for i in range(X_train.shape[0]):\n",
    "    xtrain.append(downsample(y_train[i],4))\n",
    "    ytrain.append(y_train[i])\n",
    "for i in range(X_test.shape[0]):\n",
    "    xval.append(downsample(y_test[i],4))\n",
    "    yval.append(y_test[i])   \n",
    "                \n",
    "xtrain = np.asarray(xtrain)\n",
    "ytrain = np.asarray(ytrain)\n",
    "xval = np.asarray(xval)\n",
    "yval = np.asarray(yval)\n",
    "import h5py\n",
    "f = h5py.File('data_small.h5', 'w')\n",
    "\n",
    "# Create the image and palette dataspaces\n",
    "dset = f.create_dataset('lr_train', data=xtrain)\n",
    "pset = f.create_dataset('hr_train', data=ytrain)\n",
    "lset = f.create_dataset('lr_test', data = xval)\n",
    "sset = f.create_dataset('hr_test', data = yval)\n",
    "\n",
    "# Close the file\n",
    "f.close()"
   ]
  },
  {
   "cell_type": "code",
   "execution_count": 4,
   "metadata": {
    "collapsed": true
   },
   "outputs": [],
   "source": [
    "from keras.engine import  Model\n",
    "from keras.layers import Input\n",
    "from keras_vggface import VGGFace"
   ]
  },
  {
   "cell_type": "code",
   "execution_count": null,
   "metadata": {
    "collapsed": true
   },
   "outputs": [],
   "source": [
    "def retrieve_conv_feature(img_list):\n",
    "    features = []\n",
    "    image_input = Input(shape=(112, 96, 3))\n",
    "    vgg_model = VGGFace(input_tensor=image_input, include_top=False) # pooling: None, avg or max\n",
    "    out = vgg_model.get_layer('pool5').output\n",
    "    vgg_conv = Model(image_input, out)\n",
    "    for i in range(len(img_list)):\n",
    "        x = img_preprocess(img_list[i])\n",
    "        preds = vgg_conv.predict(x)\n",
    "        features.append(preds)\n",
    "    return np.asarray(features)"
   ]
  },
  {
   "cell_type": "code",
   "execution_count": null,
   "metadata": {
    "collapsed": true
   },
   "outputs": [],
   "source": [
    "def img_preprocess(img):\n",
    "        img = img.astype(np.float64)\n",
    "        x = image.img_to_array(img)\n",
    "        x = np.expand_dims(x, axis=0)\n",
    "        # TF order aka 'channel-last'\n",
    "        x = x[:, :, :, ::-1]\n",
    "        # TH order aka 'channel-first'\n",
    "        # x = x[:, ::-1, :, :]\n",
    "        # Zero-center by mean pixel\n",
    "        x[:, 0, :, :] -= 93.5940\n",
    "        x[:, 1, :, :] -= 104.7624\n",
    "        x[:, 2, :, :] -= 129.1863\n",
    "        return x"
   ]
  },
  {
   "cell_type": "code",
   "execution_count": null,
   "metadata": {
    "collapsed": true
   },
   "outputs": [],
   "source": [
    "temp = retrieve_conv_feature(y_test[0:20])"
   ]
  },
  {
   "cell_type": "code",
   "execution_count": null,
   "metadata": {
    "collapsed": true
   },
   "outputs": [],
   "source": []
  },
  {
   "cell_type": "code",
   "execution_count": null,
   "metadata": {
    "collapsed": true
   },
   "outputs": [],
   "source": [
    "from keras import backend as K\n",
    "\n",
    "def gram_matrix(x):\n",
    "    features = K.batch_flatten(x)\n",
    "    gram = K.dot(features - 1, K.transpose(features - 1))\n",
    "    return gram\n",
    "\n",
    "# vgg conv_loss\n",
    "def conv_loss(style, combination):\n",
    "\n",
    "    S = gram_matrix(style)\n",
    "    C = gram_matrix(combination)\n",
    "    channels = 3\n",
    "    size = 112 * 96\n",
    "    return K.sum(K.square(S - C)) / (4. * (channels ** 2) * (size ** 2))"
   ]
  },
  {
   "cell_type": "code",
   "execution_count": null,
   "metadata": {
    "collapsed": true
   },
   "outputs": [],
   "source": [
    "temp = vgg_model.predict(y_test[0:20])"
   ]
  },
  {
   "cell_type": "code",
   "execution_count": null,
   "metadata": {
    "collapsed": true
   },
   "outputs": [],
   "source": [
    "y_test[0:20].shape"
   ]
  },
  {
   "cell_type": "code",
   "execution_count": null,
   "metadata": {
    "collapsed": true
   },
   "outputs": [],
   "source": [
    "# Retrieve feature maps from VGG \n",
    "def retrieve_conv_feature(img_list):\n",
    "    image_input = Input(shape=(112, 96, 3))\n",
    "    vgg_model = VGGFace(input_tensor=image_input, include_top=False) # pooling: None, avg or max\n",
    "    out = vgg_model.get_layer('pool5').output\n",
    "    vgg_conv = Model(image_input, out)\n",
    "    preds = vgg_conv.predict(img_list)\n",
    "    return preds\n",
    "\n"
   ]
  },
  {
   "cell_type": "code",
   "execution_count": null,
   "metadata": {
    "collapsed": true
   },
   "outputs": [],
   "source": [
    "a = retrieve_conv_feature(y_test[0:20])"
   ]
  },
  {
   "cell_type": "code",
   "execution_count": null,
   "metadata": {
    "collapsed": true
   },
   "outputs": [],
   "source": [
    "    \n",
    "    y_train = (y_train.astype(np.float32) - 127.5)/127.5\n",
    "    print('Data Normalized.')\n",
    "\n",
    "    #   Reshape the img in the format of (number of rows, channels, height, weight)\n",
    "    y_train = y_train.reshape((y_train.shape[0], 3) + y_train.shape[1:3])"
   ]
  },
  {
   "cell_type": "code",
   "execution_count": null,
   "metadata": {
    "collapsed": true
   },
   "outputs": [],
   "source": [
    "from keras import backend as K\n",
    "K.set_image_dim_ordering('th')\n",
    "\n",
    "from keras.models import Sequential\n",
    "from keras.layers import Dense\n",
    "from keras.layers import Reshape\n",
    "from keras.layers.core import Activation\n",
    "from keras.layers.normalization import BatchNormalization\n",
    "from keras.layers.convolutional import UpSampling2D\n",
    "from keras.layers.convolutional import Convolution2D, MaxPooling2D\n",
    "from keras.layers.core import Flatten\n",
    "from keras.optimizers import SGD, RMSprop\n",
    "from keras.preprocessing import image\n",
    "from keras.layers.core import Dropout\n",
    "from keras.engine import  Model\n",
    "from keras.layers import Input\n",
    "from keras_vggface import VGGFace\n",
    "from scipy.misc import imsave\n",
    "from Utils import conv_loss, gram_matrix\n",
    "import numpy as np\n",
    "from PIL import Image\n",
    "import argparse\n",
    "import math\n",
    "import Data as Data\n",
    "\n",
    "\n",
    "\n",
    "def cnn_model():\n",
    " \n",
    "    model = Sequential()\n",
    "    model.add(Flatten(input_shape=(3, 28, 24)))\n",
    "    model.add(Dense(16*28*24, init='uniform'))\n",
    "    model.add(BatchNormalization())\n",
    "    model.add(Activation('relu')) \n",
    "    model.add(Reshape((16, 28, 24), input_shape=(16*28*24,)))\n",
    "    model.add(Convolution2D(64, 5, 5, border_mode='same'))\n",
    "    model.add(Activation('relu'))\n",
    "    model.add(UpSampling2D(size=(2, 2)))\n",
    "    model.add(Convolution2D(32, 5, 5, border_mode='same'))\n",
    "    model.add(Activation('relu'))\n",
    "    model.add(UpSampling2D(size=(2, 2)))\n",
    "    model.add(Convolution2D(16, 5, 5, border_mode='same'))\n",
    "    model.add(Activation('relu'))\n",
    "    model.add(Convolution2D(3, 5, 5, border_mode='same'))\n",
    "    \n",
    "    return model\n",
    "\n",
    "def generator_model():\n",
    "    model = Sequential()\n",
    "    model.add(Convolution2D(64, 5, 5, border_mode='same', input_shape=(3, 28, 24)))\n",
    "    model.add(Activation('relu')) \n",
    "    model.add(Convolution2D(32, 5, 5, border_mode='same'))\n",
    "    model.add(Activation('relu'))\n",
    "    model.add(UpSampling2D(size=(2, 2)))\n",
    "    model.add(Convolution2D(32, 5, 5, border_mode='same'))\n",
    "    model.add(Activation('relu'))\n",
    "    model.add(UpSampling2D(size=(2, 2)))\n",
    "    model.add(Convolution2D(16, 5, 5, border_mode='same'))\n",
    "    model.add(Activation('relu'))\n",
    "    model.add(Convolution2D(3, 5, 5, border_mode='same'))\n",
    "    \n",
    "    return model\n",
    "\n",
    "\n",
    "def discriminator_model():\n",
    "    model = Sequential()\n",
    "    model.add(Convolution2D(\n",
    "                        16, 5, 5,\n",
    "                        border_mode='same',\n",
    "                        input_shape=(3, 112, 96)))\n",
    "    model.add(MaxPooling2D(pool_size=(2, 2)))\n",
    "    model.add(Activation('relu'))\n",
    "    model.add(Dropout(0.2))\n",
    "\n",
    "    model.add(Convolution2D(32, 5, 5))\n",
    "    model.add(MaxPooling2D(pool_size=(2, 2)))\n",
    "    model.add(Activation('relu'))\n",
    "    model.add(Dropout(0.2))\n",
    "\n",
    "    model.add(Convolution2D(64, 5, 5))\n",
    "    model.add(MaxPooling2D(pool_size=(2, 2)))\n",
    "    model.add(Activation('relu'))\n",
    "    model.add(Dropout(0.2))\n",
    "\n",
    "    model.add(Convolution2D(96, 5, 5))\n",
    "    model.add(MaxPooling2D(pool_size=(2, 2)))\n",
    "    model.add(Activation('relu'))\n",
    "\n",
    "    model.add(Flatten())\n",
    "    model.add(Dense(1024))\n",
    "    model.add(Activation('relu'))\n",
    "    model.add(Dense(1))\n",
    "    model.add(Activation('sigmoid'))\n",
    "    return model\n",
    "\n",
    "\n",
    "def generator_containing_discriminator(generator, discriminator):\n",
    "    model = Sequential()\n",
    "    model.add(generator)\n",
    "    discriminator.trainable = False\n",
    "    model.add(discriminator)\n",
    "    return model\n",
    "\n",
    "#retrive the first image in predicting set\n",
    "def combine_images(generated_images):\n",
    "    generated_images = generated_images.reshape(128,112,96,3)\n",
    "    image = generated_images[0,:,:,:]\n",
    "    return image\n",
    "\n",
    "# Zero-center by mean pixel\n",
    "def img_preprocess(img):\n",
    "        img = img.astype(np.float64)\n",
    "        x = image.img_to_array(img)\n",
    "        x = np.expand_dims(x, axis=0)\n",
    "        # TF order aka 'channel-last'\n",
    "        x = x[:, :, :, ::-1]\n",
    "        # TH order aka 'channel-first'\n",
    "        # x = x[:, ::-1, :, :]\n",
    "        # Zero-center by mean pixel\n",
    "        x[:, 0, :, :] -= 93.5940\n",
    "        x[:, 1, :, :] -= 104.7624\n",
    "        x[:, 2, :, :] -= 129.1863\n",
    "        return x\n",
    "    \n",
    "\n",
    "\n",
    " # Training supervised by feature layer wise (perceptual similarity)\n",
    "def train(BATCH_SIZE):\n",
    "    # load the training data\n",
    "    print('Data loading..')\n",
    "    X_train, y_train, X_test, y_test = Data.loadData('data_small.h5')\n",
    "    print('Data Loaded. Now normalizing..')\n",
    "    \n",
    "    X_train = (X_train.astype(np.float32) - 127.5)/127.5\n",
    "    y_train = (y_train.astype(np.float32) - 127.5)/127.5\n",
    "    print('Data Normalized.')\n",
    "\n",
    "    #   Reshape the img in the format of (number of rows, channels, height, weight)\n",
    "    X_train = X_train.reshape((X_train.shape[0], 3) + X_train.shape[1:3])\n",
    "    y_train = y_train.reshape((y_train.shape[0], 3) + y_train.shape[1:3])\n",
    "\n",
    "    discriminator = discriminator_model()\n",
    "    generator = generator_model()\n",
    "    discriminator_on_generator = \\\n",
    "        generator_containing_discriminator(generator, discriminator)\n",
    "\n",
    "        \n",
    "    d_optim = RMSprop(lr=0.00001, rho=0.9, epsilon=1e-08, decay=0.0)\n",
    "    g_optim = RMSprop(lr=0.0001, rho=0.9, epsilon=1e-08, decay=0.0)\n",
    "    generator.compile(loss= conv_loss, optimizer=g_optim)\n",
    "#    discriminator_on_generator.compile(loss='binary_crossentropy', optimizer=g_optim)\n",
    "#    discriminator.trainable = True\n",
    "#    discriminator.compile(loss='binary_crossentropy', optimizer=d_optim)\n",
    "    noise = np.zeros((BATCH_SIZE, 100))\n",
    "    shape = []\n",
    "    for epoch in range(100):\n",
    "        print(\"Epoch is\", epoch)\n",
    "        print(\"Number of batches\", int(X_train.shape[0]/BATCH_SIZE))\n",
    "        for index in range(int(X_train.shape[0]/BATCH_SIZE)):\n",
    "            # Random Signal Goes here (if needed)\n",
    "            for i in range(BATCH_SIZE):\n",
    "                noise[i, :] = np.random.uniform(-1, 1, 100)\n",
    "\n",
    "            lr_image_batch = X_train[index*BATCH_SIZE:(index+1)*BATCH_SIZE]\n",
    "            hr_image_batch = y_train[index*BATCH_SIZE:(index+1)*BATCH_SIZE]\n",
    "            generated_images = generator.predict(lr_image_batch, verbose=0)\n",
    "            shape = generated_images.shape\n",
    "\n",
    "            if index % 10 == 0:\n",
    "                image = combine_images(generated_images)\n",
    "                image = image* 127.5+ 127.5\n",
    "                imsave(\"./image_result/\"+str(epoch)+\"_\"+str(index)+\".png\", image.astype(np.uint8))\n",
    "            X = np.concatenate((hr_image_batch, generated_images))\n",
    "            y = [1] * BATCH_SIZE + [0] * BATCH_SIZE\n",
    "#            d_loss = discriminator.train_on_batch(X, y)\n",
    "#            print(\"batch %d d_loss : %f\" % (index, d_loss))\n",
    "\n",
    "#            for i in range(BATCH_SIZE):\n",
    "#                noise[i, :] = np.random.uniform(-1, 1, 100)\n",
    "#            discriminator.trainable = False\n",
    "            \n",
    "            #retrieve conv_loss of images\n",
    "            conv_lr_image_batch = retrieve_conv_feature(generated_images.reshape(generated_images.shape[0], generated_images.shape[2],generated_images.shape[3] ,3))\n",
    "            conv_hr_image_batch = retrieve_conv_feature(hr_image_batch.reshape(hr_image_batch.shape[0], hr_image_batch.shape[2],hr_image_batch.shape[3] ,3))\n",
    "            \n",
    "            #g_loss = 0.1* discriminator_on_generator.train_on_batch( lr_image_batch, [1] * BATCH_SIZE) \n",
    "            g_loss = generator.train_on_batch(conv_lr_image_batch, conv_hr_image_batch)\n",
    "#            discriminator.trainable = True\n",
    "            print(\"batch %d g_loss : %f\" % (index, g_loss))\n",
    "#            print(shape)\n",
    "            if index % 10 == 9:\n",
    "                generator.save_weights('generator', True)\n",
    "#                discriminator.save_weights('discriminator', True)\n",
    "   \n",
    "\n",
    " # Training in MSE loss function (pixel wise training)\n",
    "def MSE(BATCH_SIZE):\n",
    "    # load the training data\n",
    "    print('Data loading..')\n",
    "    X_train, y_train, X_test, y_test = Data.loadData('data_small.h5')\n",
    "    print('Data Loaded. Now normalizing..')\n",
    "    \n",
    "    X_train = (X_train.astype(np.float32) - 127.5)/127.5\n",
    "    y_train = (y_train.astype(np.float32) - 127.5)/127.5\n",
    "    print('Data Normalized.')\n",
    "\n",
    "    #   Reshape the img in the format of (number of rows, channels, height, weight)\n",
    "    X_train = X_train.reshape((X_train.shape[0], 3) + X_train.shape[1:3])\n",
    "    y_train = y_train.reshape((y_train.shape[0], 3) + y_train.shape[1:3])\n",
    "\n",
    "    discriminator = discriminator_model()\n",
    "    generator = generator_model()\n",
    "    discriminator_on_generator = \\\n",
    "        generator_containing_discriminator(generator, discriminator)\n",
    "\n",
    "        \n",
    "    d_optim = RMSprop(lr=0.00001, rho=0.9, epsilon=1e-08, decay=0.0)\n",
    "    g_optim = RMSprop(lr=0.0001, rho=0.9, epsilon=1e-08, decay=0.0)\n",
    "    generator.compile(loss='mean_squared_error', optimizer=g_optim)\n",
    "    discriminator_on_generator.compile(\n",
    "        loss='binary_crossentropy', optimizer=g_optim)\n",
    "    discriminator.trainable = True\n",
    "    discriminator.compile(loss='binary_crossentropy', optimizer=d_optim)\n",
    "    noise = np.zeros((BATCH_SIZE, 100))\n",
    "    shape = []\n",
    "    for epoch in range(100):\n",
    "        print(\"Epoch is\", epoch)\n",
    "        print(\"Number of batches\", int(X_train.shape[0]/BATCH_SIZE))\n",
    "        for index in range(int(X_train.shape[0]/BATCH_SIZE)):\n",
    "            # Random Signal Goes here (if needed)\n",
    "            for i in range(BATCH_SIZE):\n",
    "                noise[i, :] = np.random.uniform(-1, 1, 100)\n",
    "\n",
    "            lr_image_batch = X_train[index*BATCH_SIZE:(index+1)*BATCH_SIZE]\n",
    "            hr_image_batch = y_train[index*BATCH_SIZE:(index+1)*BATCH_SIZE]\n",
    "            generated_images = generator.predict(lr_image_batch, verbose=0)\n",
    "            shape = generated_images.shape\n",
    "\n",
    "            if index % 10 == 0:\n",
    "                image = combine_images(generated_images)\n",
    "                image = image* 127.5+ 127.5\n",
    "                imsave(\"./image_result/\"+str(epoch)+\"_\"+str(index)+\".png\", image.astype(np.uint8))\n",
    "            X = np.concatenate((hr_image_batch, generated_images))\n",
    "            y = [1] * BATCH_SIZE + [0] * BATCH_SIZE\n",
    "            d_loss = discriminator.train_on_batch(X, y)\n",
    "            print(\"batch %d d_loss : %f\" % (index, d_loss))\n",
    "\n",
    "            for i in range(BATCH_SIZE):\n",
    "                noise[i, :] = np.random.uniform(-1, 1, 100)\n",
    "            discriminator.trainable = False\n",
    "            \n",
    "\n",
    "            g_loss = discriminator_on_generator.train_on_batch(\n",
    "               lr_image_batch, [1] * BATCH_SIZE)\n",
    "            # generator.train_on_batch(lr_image_batch, hr_image_batch)\n",
    "            discriminator.trainable = True\n",
    "            print(\"batch %d g_loss : %f\" % (index, g_loss))\n",
    "#            print(shape)\n",
    "            if index % 10 == 9:\n",
    "                generator.save_weights('generator', True)\n",
    "                discriminator.save_weights('discriminator', True)\n",
    "                \n",
    "                \n",
    "# def generate(BATCH_SIZE, nice=False):\n",
    "#     generator = generator_model()\n",
    "#     generator.compile(loss='binary_crossentropy', optimizer=\"SGD\")\n",
    "#     generator.load_weights('generator')\n",
    "#     if nice:\n",
    "#         discriminator = discriminator_model()\n",
    "#         discriminator.compile(loss='binary_crossentropy', optimizer=\"SGD\")\n",
    "#         discriminator.load_weights('discriminator')\n",
    "#         noise = np.zeros((BATCH_SIZE*20, 100))\n",
    "#         for i in range(BATCH_SIZE*20):\n",
    "#             noise[i, :] = np.random.uniform(-1, 1, 100)\n",
    "#         generated_images = generator.predict(noise, verbose=1)\n",
    "#         d_pret = discriminator.predict(generated_images, verbose=1)\n",
    "#         index = np.arange(0, BATCH_SIZE*20)\n",
    "#         index.resize((BATCH_SIZE*20, 1))\n",
    "#         pre_with_index = list(np.append(d_pret, index, axis=1))\n",
    "#         pre_with_index.sort(key=lambda x: x[0], reverse=True)\n",
    "#         nice_images = np.zeros((BATCH_SIZE, 1) +\n",
    "#                                (generated_images.shape[2:]), dtype=np.float32)\n",
    "#         for i in range(int(BATCH_SIZE)):\n",
    "#             idx = int(pre_with_index[i][1])\n",
    "#             nice_images[i, 0, :, :] = generated_images[idx, 0, :, :]\n",
    "#         image = combine_images(nice_images)\n",
    "#     else:\n",
    "#         noise = np.zeros((BATCH_SIZE, 100))\n",
    "#         for i in range(BATCH_SIZE):\n",
    "#             noise[i, :] = np.random.uniform(-1, 1, 100)\n",
    "#         generated_images = generator.predict(noise, verbose=1)\n",
    "#         image = combine_images(generated_images)\n",
    "#     image = image*127.5+127.5\n",
    "#     Image.fromarray(image.astype(np.uint8)).save(\n",
    "# #         \"./image_result/generated_image.png\")\n",
    "\n",
    "\n",
    "\n",
    "\n",
    "\n"
   ]
  },
  {
   "cell_type": "code",
   "execution_count": null,
   "metadata": {
    "collapsed": true
   },
   "outputs": [],
   "source": [
    "    \n",
    "    # load the training data\n",
    "    print('Data loading..')\n",
    "    X_train, y_train, X_test, y_test = Data.loadData('data_small.h5')\n",
    "    print('Data Loaded. Now normalizing..')\n",
    "    \n",
    "    X_train = (X_train.astype(np.float32) - 127.5)/127.5\n",
    "    y_train = (y_train.astype(np.float32) - 127.5)/127.5\n",
    "    print('Data Normalized.')\n",
    "\n",
    "    #   Reshape the img in the format of (number of rows, channels, height, weight)\n",
    "    X_train = X_train.reshape((X_train.shape[0], 3) + X_train.shape[1:3])\n",
    "    y_train = y_train.reshape((y_train.shape[0], 3) + y_train.shape[1:3])\n",
    "\n",
    "    discriminator = discriminator_model()\n",
    "    generator = generator_model()\n",
    "    discriminator_on_generator = \\\n",
    "        generator_containing_discriminator(generator, discriminator)\n",
    "\n",
    "        \n",
    "    d_optim = RMSprop(lr=0.00001, rho=0.9, epsilon=1e-08, decay=0.0)\n",
    "    g_optim = RMSprop(lr=0.0001, rho=0.9, epsilon=1e-08, decay=0.0)\n",
    "    generator.compile(loss= conv_loss, optimizer=g_optim)\n",
    "#    discriminator_on_generator.compile(loss='binary_crossentropy', optimizer=g_optim)\n",
    "#    discriminator.trainable = True\n",
    "#    discriminator.compile(loss='binary_crossentropy', optimizer=d_optim)\n",
    "    shape = []\n",
    "\n",
    "    index =1\n",
    "    BATCH_SIZE = 128\n",
    "    lr_image_batch = X_train[index*BATCH_SIZE:(index+1)*BATCH_SIZE]\n",
    "    hr_image_batch = y_train[index*BATCH_SIZE:(index+1)*BATCH_SIZE]\n",
    "    generated_images = generator.predict(lr_image_batch, verbose=0)\n",
    "    shape = generated_images.shape\n",
    "\n",
    "    if index % 10 == 0:\n",
    "        image = combine_images(generated_images)\n",
    "        image = image* 127.5+ 127.5\n",
    "        imsave(\"./image_result/\"+str(epoch)+\"_\"+str(index)+\".png\", image.astype(np.uint8))\n",
    "    X = np.concatenate((hr_image_batch, generated_images))\n",
    "    y = [1] * BATCH_SIZE + [0] * BATCH_SIZE\n",
    "#            d_loss = discriminator.train_on_batch(X, y)\n",
    "#            print(\"batch %d d_loss : %f\" % (index, d_loss))\n",
    "\n",
    "#            for i in range(BATCH_SIZE):\n",
    "#                noise[i, :] = np.random.uniform(-1, 1, 100)\n",
    "#            discriminator.trainable = False\n",
    "\n",
    "\n",
    "   "
   ]
  },
  {
   "cell_type": "code",
   "execution_count": null,
   "metadata": {
    "collapsed": true
   },
   "outputs": [],
   "source": [
    "temp = generated_images.reshape(generated_images.shape[0], generated_images.shape[2],generated_images.shape[3] ,3)"
   ]
  },
  {
   "cell_type": "code",
   "execution_count": null,
   "metadata": {
    "collapsed": true
   },
   "outputs": [],
   "source": [
    "temp.shape"
   ]
  },
  {
   "cell_type": "code",
   "execution_count": null,
   "metadata": {
    "collapsed": true
   },
   "outputs": [],
   "source": [
    "# Retrieve feature maps from VGG \n",
    "def retrieve_conv_feature(img_list):\n",
    "    image_input = Input(shape=(112, 96, 3))\n",
    "    vgg_model = VGGFace(input_tensor=image_input, include_top=False) # pooling: None, avg or max\n",
    "    out = vgg_model.get_layer('pool5').output\n",
    "    vgg_conv = Model(image_input, out)\n",
    "    preds = vgg_conv.predict(img_list)\n",
    "    return preds"
   ]
  },
  {
   "cell_type": "code",
   "execution_count": null,
   "metadata": {
    "collapsed": true
   },
   "outputs": [],
   "source": [
    "a = retrieve_conv_feature(y_test[0:20])"
   ]
  },
  {
   "cell_type": "code",
   "execution_count": null,
   "metadata": {
    "collapsed": true
   },
   "outputs": [],
   "source": [
    "    image_input = Input(shape=(112, 96, 3))\n",
    "    vgg_model = VGGFace(input_tensor=image_input, include_top=False) # pooling: None, avg or max\n",
    "    out = vgg_model.get_layer('pool5').output\n"
   ]
  },
  {
   "cell_type": "code",
   "execution_count": null,
   "metadata": {
    "collapsed": true
   },
   "outputs": [],
   "source": [
    "    features = []\n",
    "    img_list = y_test[0:20]\n",
    "    image_input = Input(shape=(112, 96, 3))\n",
    "    vgg_model = VGGFace(input_tensor=image_input, include_top=False) # pooling: None, avg or max\n",
    "    out = vgg_model.get_layer('pool5').output\n",
    "    vgg_conv = Model(image_input, out)\n",
    "    for i in range(len(img_list)):\n",
    "        x = img_preprocess(img_list[i])\n",
    "        preds = vgg_conv.predict(x)\n",
    "        features.append(preds)"
   ]
  },
  {
   "cell_type": "code",
   "execution_count": 5,
   "metadata": {
    "collapsed": true
   },
   "outputs": [],
   "source": [
    "        image_input = Input(shape=(112, 96, 3))\n",
    "        vgg_model = VGGFace(input_tensor=image_input, include_top=False) # pooling: None, avg or max\n",
    "        out = vgg_model.get_layer('pool5').output\n",
    "        vgg_conv = Model(image_input, out)"
   ]
  },
  {
   "cell_type": "code",
   "execution_count": 15,
   "metadata": {},
   "outputs": [
    {
     "name": "stdout",
     "output_type": "stream",
     "text": [
      "Data loading..\n",
      "Data Loaded. Now normalizing..\n",
      "Data Normalized.\n"
     ]
    },
    {
     "name": "stderr",
     "output_type": "stream",
     "text": [
      "/usr/local/lib/python2.7/dist-packages/ipykernel/__main__.py:32: UserWarning: Update your `Dense` call to the Keras 2 API: `Dense(10752, kernel_initializer=\"uniform\")`\n",
      "/usr/local/lib/python2.7/dist-packages/ipykernel/__main__.py:36: UserWarning: Update your `Conv2D` call to the Keras 2 API: `Conv2D(64, (5, 5), padding=\"same\")`\n",
      "/usr/local/lib/python2.7/dist-packages/ipykernel/__main__.py:39: UserWarning: Update your `Conv2D` call to the Keras 2 API: `Conv2D(32, (5, 5), padding=\"same\")`\n",
      "/usr/local/lib/python2.7/dist-packages/ipykernel/__main__.py:42: UserWarning: Update your `Conv2D` call to the Keras 2 API: `Conv2D(16, (5, 5), padding=\"same\")`\n",
      "/usr/local/lib/python2.7/dist-packages/ipykernel/__main__.py:44: UserWarning: Update your `Conv2D` call to the Keras 2 API: `Conv2D(3, (5, 5), padding=\"same\")`\n"
     ]
    },
    {
     "name": "stdout",
     "output_type": "stream",
     "text": [
      "('Epoch is', 0)\n",
      "('Number of batches', 659)\n",
      "batch 0 g_loss : 0.008772\n",
      "batch 1 g_loss : 0.018026\n",
      "batch 2 g_loss : 0.005628\n",
      "batch 3 g_loss : 0.001622\n",
      "batch 4 g_loss : 0.001526\n",
      "batch 5 g_loss : 0.002980\n",
      "batch 6 g_loss : 0.003342\n",
      "batch 7 g_loss : 0.002066\n"
     ]
    },
    {
     "ename": "KeyboardInterrupt",
     "evalue": "",
     "output_type": "error",
     "traceback": [
      "\u001b[0;31m---------------------------------------------------------------------------\u001b[0m",
      "\u001b[0;31mKeyboardInterrupt\u001b[0m                         Traceback (most recent call last)",
      "\u001b[0;32m<ipython-input-15-8c6bec645aea>\u001b[0m in \u001b[0;36m<module>\u001b[0;34m()\u001b[0m\n\u001b[1;32m    111\u001b[0m         \u001b[0mlabels\u001b[0m \u001b[0;34m=\u001b[0m \u001b[0mvgg_conv\u001b[0m\u001b[0;34m.\u001b[0m\u001b[0mpredict\u001b[0m\u001b[0;34m(\u001b[0m\u001b[0mhr_image_batch\u001b[0m\u001b[0;34m)\u001b[0m\u001b[0;34m\u001b[0m\u001b[0m\n\u001b[1;32m    112\u001b[0m \u001b[0;34m\u001b[0m\u001b[0m\n\u001b[0;32m--> 113\u001b[0;31m         \u001b[0mg_loss\u001b[0m \u001b[0;34m=\u001b[0m \u001b[0mgenerator_vgg\u001b[0m\u001b[0;34m.\u001b[0m\u001b[0mtrain_on_batch\u001b[0m\u001b[0;34m(\u001b[0m\u001b[0mlr_image_batch\u001b[0m\u001b[0;34m,\u001b[0m \u001b[0mlabels\u001b[0m\u001b[0;34m)\u001b[0m\u001b[0;34m\u001b[0m\u001b[0m\n\u001b[0m\u001b[1;32m    114\u001b[0m \u001b[0;34m\u001b[0m\u001b[0m\n\u001b[1;32m    115\u001b[0m         \u001b[0;32mprint\u001b[0m\u001b[0;34m(\u001b[0m\u001b[0;34m\"batch %d g_loss : %f\"\u001b[0m \u001b[0;34m%\u001b[0m \u001b[0;34m(\u001b[0m\u001b[0mindex\u001b[0m\u001b[0;34m,\u001b[0m \u001b[0mg_loss\u001b[0m\u001b[0;34m)\u001b[0m\u001b[0;34m)\u001b[0m\u001b[0;34m\u001b[0m\u001b[0m\n",
      "\u001b[0;32m/usr/local/lib/python2.7/dist-packages/keras/models.pyc\u001b[0m in \u001b[0;36mtrain_on_batch\u001b[0;34m(self, x, y, class_weight, sample_weight)\u001b[0m\n\u001b[1;32m    939\u001b[0m         return self.model.train_on_batch(x, y,\n\u001b[1;32m    940\u001b[0m                                          \u001b[0msample_weight\u001b[0m\u001b[0;34m=\u001b[0m\u001b[0msample_weight\u001b[0m\u001b[0;34m,\u001b[0m\u001b[0;34m\u001b[0m\u001b[0m\n\u001b[0;32m--> 941\u001b[0;31m                                          class_weight=class_weight)\n\u001b[0m\u001b[1;32m    942\u001b[0m \u001b[0;34m\u001b[0m\u001b[0m\n\u001b[1;32m    943\u001b[0m     def test_on_batch(self, x, y,\n",
      "\u001b[0;32m/usr/local/lib/python2.7/dist-packages/keras/engine/training.pyc\u001b[0m in \u001b[0;36mtrain_on_batch\u001b[0;34m(self, x, y, sample_weight, class_weight)\u001b[0m\n\u001b[1;32m   1619\u001b[0m             \u001b[0mins\u001b[0m \u001b[0;34m=\u001b[0m \u001b[0mx\u001b[0m \u001b[0;34m+\u001b[0m \u001b[0my\u001b[0m \u001b[0;34m+\u001b[0m \u001b[0msample_weights\u001b[0m\u001b[0;34m\u001b[0m\u001b[0m\n\u001b[1;32m   1620\u001b[0m         \u001b[0mself\u001b[0m\u001b[0;34m.\u001b[0m\u001b[0m_make_train_function\u001b[0m\u001b[0;34m(\u001b[0m\u001b[0;34m)\u001b[0m\u001b[0;34m\u001b[0m\u001b[0m\n\u001b[0;32m-> 1621\u001b[0;31m         \u001b[0moutputs\u001b[0m \u001b[0;34m=\u001b[0m \u001b[0mself\u001b[0m\u001b[0;34m.\u001b[0m\u001b[0mtrain_function\u001b[0m\u001b[0;34m(\u001b[0m\u001b[0mins\u001b[0m\u001b[0;34m)\u001b[0m\u001b[0;34m\u001b[0m\u001b[0m\n\u001b[0m\u001b[1;32m   1622\u001b[0m         \u001b[0;32mif\u001b[0m \u001b[0mlen\u001b[0m\u001b[0;34m(\u001b[0m\u001b[0moutputs\u001b[0m\u001b[0;34m)\u001b[0m \u001b[0;34m==\u001b[0m \u001b[0;36m1\u001b[0m\u001b[0;34m:\u001b[0m\u001b[0;34m\u001b[0m\u001b[0m\n\u001b[1;32m   1623\u001b[0m             \u001b[0;32mreturn\u001b[0m \u001b[0moutputs\u001b[0m\u001b[0;34m[\u001b[0m\u001b[0;36m0\u001b[0m\u001b[0;34m]\u001b[0m\u001b[0;34m\u001b[0m\u001b[0m\n",
      "\u001b[0;32m/usr/local/lib/python2.7/dist-packages/keras/backend/tensorflow_backend.pyc\u001b[0m in \u001b[0;36m__call__\u001b[0;34m(self, inputs)\u001b[0m\n\u001b[1;32m   2101\u001b[0m         \u001b[0msession\u001b[0m \u001b[0;34m=\u001b[0m \u001b[0mget_session\u001b[0m\u001b[0;34m(\u001b[0m\u001b[0;34m)\u001b[0m\u001b[0;34m\u001b[0m\u001b[0m\n\u001b[1;32m   2102\u001b[0m         updated = session.run(self.outputs + [self.updates_op],\n\u001b[0;32m-> 2103\u001b[0;31m                               feed_dict=feed_dict)\n\u001b[0m\u001b[1;32m   2104\u001b[0m         \u001b[0;32mreturn\u001b[0m \u001b[0mupdated\u001b[0m\u001b[0;34m[\u001b[0m\u001b[0;34m:\u001b[0m\u001b[0mlen\u001b[0m\u001b[0;34m(\u001b[0m\u001b[0mself\u001b[0m\u001b[0;34m.\u001b[0m\u001b[0moutputs\u001b[0m\u001b[0;34m)\u001b[0m\u001b[0;34m]\u001b[0m\u001b[0;34m\u001b[0m\u001b[0m\n\u001b[1;32m   2105\u001b[0m \u001b[0;34m\u001b[0m\u001b[0m\n",
      "\u001b[0;32m/usr/local/lib/python2.7/dist-packages/tensorflow/python/client/session.pyc\u001b[0m in \u001b[0;36mrun\u001b[0;34m(self, fetches, feed_dict, options, run_metadata)\u001b[0m\n\u001b[1;32m    776\u001b[0m     \u001b[0;32mtry\u001b[0m\u001b[0;34m:\u001b[0m\u001b[0;34m\u001b[0m\u001b[0m\n\u001b[1;32m    777\u001b[0m       result = self._run(None, fetches, feed_dict, options_ptr,\n\u001b[0;32m--> 778\u001b[0;31m                          run_metadata_ptr)\n\u001b[0m\u001b[1;32m    779\u001b[0m       \u001b[0;32mif\u001b[0m \u001b[0mrun_metadata\u001b[0m\u001b[0;34m:\u001b[0m\u001b[0;34m\u001b[0m\u001b[0m\n\u001b[1;32m    780\u001b[0m         \u001b[0mproto_data\u001b[0m \u001b[0;34m=\u001b[0m \u001b[0mtf_session\u001b[0m\u001b[0;34m.\u001b[0m\u001b[0mTF_GetBuffer\u001b[0m\u001b[0;34m(\u001b[0m\u001b[0mrun_metadata_ptr\u001b[0m\u001b[0;34m)\u001b[0m\u001b[0;34m\u001b[0m\u001b[0m\n",
      "\u001b[0;32m/usr/local/lib/python2.7/dist-packages/tensorflow/python/client/session.pyc\u001b[0m in \u001b[0;36m_run\u001b[0;34m(self, handle, fetches, feed_dict, options, run_metadata)\u001b[0m\n\u001b[1;32m    980\u001b[0m     \u001b[0;32mif\u001b[0m \u001b[0mfinal_fetches\u001b[0m \u001b[0;32mor\u001b[0m \u001b[0mfinal_targets\u001b[0m\u001b[0;34m:\u001b[0m\u001b[0;34m\u001b[0m\u001b[0m\n\u001b[1;32m    981\u001b[0m       results = self._do_run(handle, final_targets, final_fetches,\n\u001b[0;32m--> 982\u001b[0;31m                              feed_dict_string, options, run_metadata)\n\u001b[0m\u001b[1;32m    983\u001b[0m     \u001b[0;32melse\u001b[0m\u001b[0;34m:\u001b[0m\u001b[0;34m\u001b[0m\u001b[0m\n\u001b[1;32m    984\u001b[0m       \u001b[0mresults\u001b[0m \u001b[0;34m=\u001b[0m \u001b[0;34m[\u001b[0m\u001b[0;34m]\u001b[0m\u001b[0;34m\u001b[0m\u001b[0m\n",
      "\u001b[0;32m/usr/local/lib/python2.7/dist-packages/tensorflow/python/client/session.pyc\u001b[0m in \u001b[0;36m_do_run\u001b[0;34m(self, handle, target_list, fetch_list, feed_dict, options, run_metadata)\u001b[0m\n\u001b[1;32m   1030\u001b[0m     \u001b[0;32mif\u001b[0m \u001b[0mhandle\u001b[0m \u001b[0;32mis\u001b[0m \u001b[0mNone\u001b[0m\u001b[0;34m:\u001b[0m\u001b[0;34m\u001b[0m\u001b[0m\n\u001b[1;32m   1031\u001b[0m       return self._do_call(_run_fn, self._session, feed_dict, fetch_list,\n\u001b[0;32m-> 1032\u001b[0;31m                            target_list, options, run_metadata)\n\u001b[0m\u001b[1;32m   1033\u001b[0m     \u001b[0;32melse\u001b[0m\u001b[0;34m:\u001b[0m\u001b[0;34m\u001b[0m\u001b[0m\n\u001b[1;32m   1034\u001b[0m       return self._do_call(_prun_fn, self._session, handle, feed_dict,\n",
      "\u001b[0;32m/usr/local/lib/python2.7/dist-packages/tensorflow/python/client/session.pyc\u001b[0m in \u001b[0;36m_do_call\u001b[0;34m(self, fn, *args)\u001b[0m\n\u001b[1;32m   1037\u001b[0m   \u001b[0;32mdef\u001b[0m \u001b[0m_do_call\u001b[0m\u001b[0;34m(\u001b[0m\u001b[0mself\u001b[0m\u001b[0;34m,\u001b[0m \u001b[0mfn\u001b[0m\u001b[0;34m,\u001b[0m \u001b[0;34m*\u001b[0m\u001b[0margs\u001b[0m\u001b[0;34m)\u001b[0m\u001b[0;34m:\u001b[0m\u001b[0;34m\u001b[0m\u001b[0m\n\u001b[1;32m   1038\u001b[0m     \u001b[0;32mtry\u001b[0m\u001b[0;34m:\u001b[0m\u001b[0;34m\u001b[0m\u001b[0m\n\u001b[0;32m-> 1039\u001b[0;31m       \u001b[0;32mreturn\u001b[0m \u001b[0mfn\u001b[0m\u001b[0;34m(\u001b[0m\u001b[0;34m*\u001b[0m\u001b[0margs\u001b[0m\u001b[0;34m)\u001b[0m\u001b[0;34m\u001b[0m\u001b[0m\n\u001b[0m\u001b[1;32m   1040\u001b[0m     \u001b[0;32mexcept\u001b[0m \u001b[0merrors\u001b[0m\u001b[0;34m.\u001b[0m\u001b[0mOpError\u001b[0m \u001b[0;32mas\u001b[0m \u001b[0me\u001b[0m\u001b[0;34m:\u001b[0m\u001b[0;34m\u001b[0m\u001b[0m\n\u001b[1;32m   1041\u001b[0m       \u001b[0mmessage\u001b[0m \u001b[0;34m=\u001b[0m \u001b[0mcompat\u001b[0m\u001b[0;34m.\u001b[0m\u001b[0mas_text\u001b[0m\u001b[0;34m(\u001b[0m\u001b[0me\u001b[0m\u001b[0;34m.\u001b[0m\u001b[0mmessage\u001b[0m\u001b[0;34m)\u001b[0m\u001b[0;34m\u001b[0m\u001b[0m\n",
      "\u001b[0;32m/usr/local/lib/python2.7/dist-packages/tensorflow/python/client/session.pyc\u001b[0m in \u001b[0;36m_run_fn\u001b[0;34m(session, feed_dict, fetch_list, target_list, options, run_metadata)\u001b[0m\n\u001b[1;32m   1019\u001b[0m         return tf_session.TF_Run(session, options,\n\u001b[1;32m   1020\u001b[0m                                  \u001b[0mfeed_dict\u001b[0m\u001b[0;34m,\u001b[0m \u001b[0mfetch_list\u001b[0m\u001b[0;34m,\u001b[0m \u001b[0mtarget_list\u001b[0m\u001b[0;34m,\u001b[0m\u001b[0;34m\u001b[0m\u001b[0m\n\u001b[0;32m-> 1021\u001b[0;31m                                  status, run_metadata)\n\u001b[0m\u001b[1;32m   1022\u001b[0m \u001b[0;34m\u001b[0m\u001b[0m\n\u001b[1;32m   1023\u001b[0m     \u001b[0;32mdef\u001b[0m \u001b[0m_prun_fn\u001b[0m\u001b[0;34m(\u001b[0m\u001b[0msession\u001b[0m\u001b[0;34m,\u001b[0m \u001b[0mhandle\u001b[0m\u001b[0;34m,\u001b[0m \u001b[0mfeed_dict\u001b[0m\u001b[0;34m,\u001b[0m \u001b[0mfetch_list\u001b[0m\u001b[0;34m)\u001b[0m\u001b[0;34m:\u001b[0m\u001b[0;34m\u001b[0m\u001b[0m\n",
      "\u001b[0;31mKeyboardInterrupt\u001b[0m: "
     ]
    }
   ],
   "source": [
    "from keras import backend as K\n",
    "K.set_image_dim_ordering('th')\n",
    "\n",
    "from keras.models import Sequential\n",
    "from keras.layers import Dense\n",
    "from keras.layers import Reshape\n",
    "from keras.layers.core import Activation\n",
    "from keras.layers.normalization import BatchNormalization\n",
    "from keras.layers.convolutional import UpSampling2D\n",
    "from keras.layers.convolutional import Convolution2D, MaxPooling2D\n",
    "from keras.layers.core import Flatten\n",
    "from keras.optimizers import SGD, RMSprop\n",
    "from keras.preprocessing import image\n",
    "from keras.layers.core import Dropout\n",
    "from keras.engine import  Model\n",
    "from keras.layers import Input\n",
    "from keras_vggface import VGGFace\n",
    "from scipy.misc import imsave\n",
    "from Utils import conv_loss, gram_matrix\n",
    "import numpy as np\n",
    "from PIL import Image\n",
    "import argparse\n",
    "import math\n",
    "import Data as Data\n",
    "\n",
    "\n",
    "#srcnn_vgg combine\n",
    "def cnn_model():\n",
    " \n",
    "    model = Sequential()\n",
    "    model.add(Flatten(input_shape=(3, 28, 24)))\n",
    "    model.add(Dense(16*28*24, init='uniform'))\n",
    "    model.add(BatchNormalization())\n",
    "    model.add(Activation('relu')) \n",
    "    model.add(Reshape((16, 28, 24), input_shape=(16*28*24,)))\n",
    "    model.add(Convolution2D(64, 5, 5, border_mode='same'))\n",
    "    model.add(Activation('relu'))\n",
    "    model.add(UpSampling2D(size=(2, 2)))\n",
    "    model.add(Convolution2D(32, 5, 5, border_mode='same'))\n",
    "    model.add(Activation('relu'))\n",
    "    model.add(UpSampling2D(size=(2, 2)))\n",
    "    model.add(Convolution2D(16, 5, 5, border_mode='same'))\n",
    "    model.add(Activation('relu'))\n",
    "    model.add(Convolution2D(3, 5, 5, border_mode='same'))\n",
    "    \n",
    "    return model\n",
    "\n",
    "\n",
    "def generator_containing_discriminator(generator, discriminator):\n",
    "    model = Sequential()\n",
    "    model.add(generator)\n",
    "    discriminator.trainable = False\n",
    "    model.add(discriminator)\n",
    "    return model\n",
    "\n",
    "#retrive the first image in predicting set\n",
    "def combine_images(generated_images):\n",
    "    generated_images = generated_images.reshape(128,112,96,3)\n",
    "    image = generated_images[0,:,:,:]\n",
    "    return image\n",
    "\n",
    "\n",
    "BATCH_SIZE = 128\n",
    "# load the training data\n",
    "print('Data loading..')\n",
    "X_train, y_train, X_test, y_test = Data.loadData('data_small.h5')\n",
    "print('Data Loaded. Now normalizing..')\n",
    "\n",
    "X_train = (X_train.astype(np.float32) - 127.5)/127.5\n",
    "y_train = (y_train.astype(np.float32) - 127.5)/127.5\n",
    "print('Data Normalized.')\n",
    "\n",
    "#   Reshape the img in the format of (number of rows, channels, height, weight)\n",
    "X_train = X_train.reshape((X_train.shape[0], 3) + X_train.shape[1:3])\n",
    "y_train = y_train.reshape((y_train.shape[0], 3) + y_train.shape[1:3])\n",
    "\n",
    "#vgg model goes here\n",
    "image_input = Input(shape=(3, 112, 96))\n",
    "vgg_model = VGGFace(input_tensor=image_input, include_top=False, pooling='avg') # pooling: None, avg or max\n",
    "out = vgg_model.get_layer('pool5').output\n",
    "vgg_conv = Model(image_input, out)\n",
    "\n",
    "#generator model goes here\n",
    "generator = cnn_model()\n",
    "generator_vgg = \\\n",
    "        generator_containing_discriminator(generator, vgg_conv)\n",
    "    \n",
    "d_optim = RMSprop(lr=0.00001, rho=0.9, epsilon=1e-08, decay=0.0)\n",
    "g_optim = RMSprop(lr=0.0001, rho=0.9, epsilon=1e-08, decay=0.0)\n",
    "\n",
    "generator.compile(loss='mean_squared_error', optimizer=g_optim)\n",
    "generator_vgg.compile(\n",
    "    loss=conv_loss, optimizer=g_optim)\n",
    "\n",
    "for epoch in range(100):\n",
    "    print(\"Epoch is\", epoch)\n",
    "    print(\"Number of batches\", int(X_train.shape[0]/BATCH_SIZE))\n",
    "    for index in range(int(X_train.shape[0]/BATCH_SIZE)):\n",
    "        lr_image_batch = X_train[index*BATCH_SIZE:(index+1)*BATCH_SIZE]\n",
    "        hr_image_batch = y_train[index*BATCH_SIZE:(index+1)*BATCH_SIZE]\n",
    "        generated_images = generator.predict(lr_image_batch, verbose=0)\n",
    "        shape = generated_images.shape\n",
    "\n",
    "        if index % 10 == 0:\n",
    "            image = combine_images(generated_images)\n",
    "            image = image* 127.5+ 127.5\n",
    "            imsave(\"./image_result/\"+str(epoch)+\"_\"+str(index)+\".png\", image.astype(np.uint8))\n",
    "        X = np.concatenate((hr_image_batch, generated_images))\n",
    "        y = [1] * BATCH_SIZE + [0] * BATCH_SIZE\n",
    "        \n",
    "        #generate feature labels for the hr_images\n",
    "        labels = vgg_conv.predict(hr_image_batch)\n",
    "        \n",
    "        g_loss = generator_vgg.train_on_batch(lr_image_batch, labels)\n",
    "\n",
    "        print(\"batch %d g_loss : %f\" % (index, g_loss))\n",
    "        if index % 10 == 9:\n",
    "            generator.save_weights('generator', True)\n"
   ]
  },
  {
   "cell_type": "code",
   "execution_count": null,
   "metadata": {
    "collapsed": true
   },
   "outputs": [],
   "source": []
  }
 ],
 "metadata": {
  "kernelspec": {
   "display_name": "Python 2",
   "language": "python",
   "name": "python2"
  },
  "language_info": {
   "codemirror_mode": {
    "name": "ipython",
    "version": 2
   },
   "file_extension": ".py",
   "mimetype": "text/x-python",
   "name": "python",
   "nbconvert_exporter": "python",
   "pygments_lexer": "ipython2",
   "version": "2.7.12"
  }
 },
 "nbformat": 4,
 "nbformat_minor": 2
}
